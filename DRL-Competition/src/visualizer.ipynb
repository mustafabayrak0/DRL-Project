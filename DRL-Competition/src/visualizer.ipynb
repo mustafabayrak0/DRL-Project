{
 "cells": [
  {
   "cell_type": "code",
   "execution_count": 10,
   "metadata": {},
   "outputs": [
    {
     "name": "stdout",
     "output_type": "stream",
     "text": [
      "Saved plot for /home/mustafa/Desktop/DRL-Competition-main/DRL-Project/DRL-Competition/logs/12-04-03-MAP-RiskyValley/\n",
      "Saved plot for /home/mustafa/Desktop/DRL-Competition-main/DRL-Project/DRL-Competition/logs/12-04-03-MAP-RiskyValley/\n",
      "Saved plot for /home/mustafa/Desktop/DRL-Competition-main/DRL-Project/DRL-Competition/logs/12-04-03-MAP-RiskyValley/\n",
      "Saved plot for /home/mustafa/Desktop/DRL-Competition-main/DRL-Project/DRL-Competition/logs/12-04-03-MAP-RiskyValley/\n",
      "Saved plot for /home/mustafa/Desktop/DRL-Competition-main/DRL-Project/DRL-Competition/logs/12-04-03-MAP-RiskyValley/\n"
     ]
    }
   ],
   "source": [
    "import os\n",
    "import json\n",
    "import matplotlib.pyplot as plt\n",
    "import pandas as pd\n",
    "\n",
    "# Function to read and parse the JSON entries\n",
    "def read_progress_file(file_path):\n",
    "    data = []\n",
    "    with open(file_path, 'r') as f:\n",
    "        for line in f:\n",
    "            data.append(json.loads(line))\n",
    "    return data\n",
    "\n",
    "# Function to extract relevant metrics into a pandas DataFrame\n",
    "def extract_metrics(data):\n",
    "    df = pd.DataFrame(data)\n",
    "    return df\n",
    "\n",
    "# Function to plot and save the metrics\n",
    "def plot_and_save_metrics(df, output_dir):\n",
    "    metrics_to_plot = [\n",
    "        \"train/entropy_loss\",\n",
    "        \"train/policy_gradient_loss\",\n",
    "        \"train/value_loss\",\n",
    "        \"train/loss\",\n",
    "        \"train/explained_variance\"\n",
    "    ]\n",
    "\n",
    "    for metric in metrics_to_plot:\n",
    "        if metric in df.columns:\n",
    "            plt.figure()\n",
    "            plt.plot(df['time/iterations'], df[metric])\n",
    "            plt.xlabel('Iterations')\n",
    "            plt.ylabel(metric)\n",
    "            plt.title(f'{metric} over Iterations')\n",
    "            plt.grid(True)\n",
    "            plt.savefig(os.path.join(output_dir, f'{metric.replace(\"/\", \"_\")}.png'))\n",
    "            print(f'Saved plot for {output_dir}')\n",
    "            plt.close()\n",
    "\n",
    "# Main function to run the entire process\n",
    "def main(progress_file_path, output_dir):\n",
    "    # Read the progress file\n",
    "    data = read_progress_file(progress_file_path)\n",
    "\n",
    "    # Extract metrics into a DataFrame\n",
    "    df = extract_metrics(data)\n",
    "\n",
    "    # Ensure the output directory exists\n",
    "    os.makedirs(output_dir, exist_ok=True)\n",
    "\n",
    "    # Plot and save metrics\n",
    "    plot_and_save_metrics(df, output_dir)\n",
    "\n",
    "# Example usage\n",
    "folder_name = \"12-04-03-MAP-RiskyValley\"\n",
    "p = f'/home/mustafa/Desktop/DRL-Competition-main/DRL-Project/DRL-Competition/logs/{folder_name}/'\n",
    "progress_file_path = f'{p}progress.json'  # Replace with your progress.json file path\n",
    "output_dir = p  # Replace with your desired output directory\n",
    "\n",
    "main(progress_file_path, output_dir)\n"
   ]
  }
 ],
 "metadata": {
  "kernelspec": {
   "display_name": "drl_visualizer",
   "language": "python",
   "name": "python3"
  },
  "language_info": {
   "codemirror_mode": {
    "name": "ipython",
    "version": 3
   },
   "file_extension": ".py",
   "mimetype": "text/x-python",
   "name": "python",
   "nbconvert_exporter": "python",
   "pygments_lexer": "ipython3",
   "version": "3.12.3"
  }
 },
 "nbformat": 4,
 "nbformat_minor": 2
}
